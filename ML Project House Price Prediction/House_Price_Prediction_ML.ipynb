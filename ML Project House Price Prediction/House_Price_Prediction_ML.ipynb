{
 "cells": [
  {
   "cell_type": "markdown",
   "metadata": {
    "id": "3dc3dzDzkNxM"
   },
   "source": [
    "# House Price Prediction "
   ]
  },
  {
   "cell_type": "markdown",
   "metadata": {
    "id": "e0IW5qmC2Aaa"
   },
   "source": [
    "#### 1. Importing Modules and Loading Dataset\n"
   ]
  },
  {
   "cell_type": "code",
   "execution_count": null,
   "metadata": {
    "colab": {
     "base_uri": "https://localhost:8080/",
     "height": 206
    },
    "id": "4NKi_-YIxTcL",
    "outputId": "e93a4a8e-6f76-4a66-b337-5f7ea401bcc0"
   },
   "outputs": [
    {
     "data": {
      "text/html": [
       "\n",
       "  <div id=\"df-02db22ee-ee7d-414e-bcd9-a13f6134af6f\">\n",
       "    <div class=\"colab-df-container\">\n",
       "      <div>\n",
       "<style scoped>\n",
       "    .dataframe tbody tr th:only-of-type {\n",
       "        vertical-align: middle;\n",
       "    }\n",
       "\n",
       "    .dataframe tbody tr th {\n",
       "        vertical-align: top;\n",
       "    }\n",
       "\n",
       "    .dataframe thead th {\n",
       "        text-align: right;\n",
       "    }\n",
       "</style>\n",
       "<table border=\"1\" class=\"dataframe\">\n",
       "  <thead>\n",
       "    <tr style=\"text-align: right;\">\n",
       "      <th></th>\n",
       "      <th>price</th>\n",
       "      <th>area</th>\n",
       "      <th>bedrooms</th>\n",
       "      <th>bathrooms</th>\n",
       "      <th>stories</th>\n",
       "      <th>mainroad</th>\n",
       "      <th>guestroom</th>\n",
       "      <th>basement</th>\n",
       "      <th>hotwaterheating</th>\n",
       "      <th>airconditioning</th>\n",
       "      <th>parking</th>\n",
       "      <th>prefarea</th>\n",
       "      <th>furnishingstatus</th>\n",
       "    </tr>\n",
       "  </thead>\n",
       "  <tbody>\n",
       "    <tr>\n",
       "      <th>0</th>\n",
       "      <td>13300000</td>\n",
       "      <td>7420</td>\n",
       "      <td>4</td>\n",
       "      <td>2</td>\n",
       "      <td>3</td>\n",
       "      <td>yes</td>\n",
       "      <td>no</td>\n",
       "      <td>no</td>\n",
       "      <td>no</td>\n",
       "      <td>yes</td>\n",
       "      <td>2</td>\n",
       "      <td>yes</td>\n",
       "      <td>furnished</td>\n",
       "    </tr>\n",
       "    <tr>\n",
       "      <th>1</th>\n",
       "      <td>12250000</td>\n",
       "      <td>8960</td>\n",
       "      <td>4</td>\n",
       "      <td>4</td>\n",
       "      <td>4</td>\n",
       "      <td>yes</td>\n",
       "      <td>no</td>\n",
       "      <td>no</td>\n",
       "      <td>no</td>\n",
       "      <td>yes</td>\n",
       "      <td>3</td>\n",
       "      <td>no</td>\n",
       "      <td>furnished</td>\n",
       "    </tr>\n",
       "    <tr>\n",
       "      <th>2</th>\n",
       "      <td>12250000</td>\n",
       "      <td>9960</td>\n",
       "      <td>3</td>\n",
       "      <td>2</td>\n",
       "      <td>2</td>\n",
       "      <td>yes</td>\n",
       "      <td>no</td>\n",
       "      <td>yes</td>\n",
       "      <td>no</td>\n",
       "      <td>no</td>\n",
       "      <td>2</td>\n",
       "      <td>yes</td>\n",
       "      <td>semi-furnished</td>\n",
       "    </tr>\n",
       "    <tr>\n",
       "      <th>3</th>\n",
       "      <td>12215000</td>\n",
       "      <td>7500</td>\n",
       "      <td>4</td>\n",
       "      <td>2</td>\n",
       "      <td>2</td>\n",
       "      <td>yes</td>\n",
       "      <td>no</td>\n",
       "      <td>yes</td>\n",
       "      <td>no</td>\n",
       "      <td>yes</td>\n",
       "      <td>3</td>\n",
       "      <td>yes</td>\n",
       "      <td>furnished</td>\n",
       "    </tr>\n",
       "    <tr>\n",
       "      <th>4</th>\n",
       "      <td>11410000</td>\n",
       "      <td>7420</td>\n",
       "      <td>4</td>\n",
       "      <td>1</td>\n",
       "      <td>2</td>\n",
       "      <td>yes</td>\n",
       "      <td>yes</td>\n",
       "      <td>yes</td>\n",
       "      <td>no</td>\n",
       "      <td>yes</td>\n",
       "      <td>2</td>\n",
       "      <td>no</td>\n",
       "      <td>furnished</td>\n",
       "    </tr>\n",
       "  </tbody>\n",
       "</table>\n",
       "</div>\n",
       "      <button class=\"colab-df-convert\" onclick=\"convertToInteractive('df-02db22ee-ee7d-414e-bcd9-a13f6134af6f')\"\n",
       "              title=\"Convert this dataframe to an interactive table.\"\n",
       "              style=\"display:none;\">\n",
       "        \n",
       "  <svg xmlns=\"http://www.w3.org/2000/svg\" height=\"24px\"viewBox=\"0 0 24 24\"\n",
       "       width=\"24px\">\n",
       "    <path d=\"M0 0h24v24H0V0z\" fill=\"none\"/>\n",
       "    <path d=\"M18.56 5.44l.94 2.06.94-2.06 2.06-.94-2.06-.94-.94-2.06-.94 2.06-2.06.94zm-11 1L8.5 8.5l.94-2.06 2.06-.94-2.06-.94L8.5 2.5l-.94 2.06-2.06.94zm10 10l.94 2.06.94-2.06 2.06-.94-2.06-.94-.94-2.06-.94 2.06-2.06.94z\"/><path d=\"M17.41 7.96l-1.37-1.37c-.4-.4-.92-.59-1.43-.59-.52 0-1.04.2-1.43.59L10.3 9.45l-7.72 7.72c-.78.78-.78 2.05 0 2.83L4 21.41c.39.39.9.59 1.41.59.51 0 1.02-.2 1.41-.59l7.78-7.78 2.81-2.81c.8-.78.8-2.07 0-2.86zM5.41 20L4 18.59l7.72-7.72 1.47 1.35L5.41 20z\"/>\n",
       "  </svg>\n",
       "      </button>\n",
       "      \n",
       "  <style>\n",
       "    .colab-df-container {\n",
       "      display:flex;\n",
       "      flex-wrap:wrap;\n",
       "      gap: 12px;\n",
       "    }\n",
       "\n",
       "    .colab-df-convert {\n",
       "      background-color: #E8F0FE;\n",
       "      border: none;\n",
       "      border-radius: 50%;\n",
       "      cursor: pointer;\n",
       "      display: none;\n",
       "      fill: #1967D2;\n",
       "      height: 32px;\n",
       "      padding: 0 0 0 0;\n",
       "      width: 32px;\n",
       "    }\n",
       "\n",
       "    .colab-df-convert:hover {\n",
       "      background-color: #E2EBFA;\n",
       "      box-shadow: 0px 1px 2px rgba(60, 64, 67, 0.3), 0px 1px 3px 1px rgba(60, 64, 67, 0.15);\n",
       "      fill: #174EA6;\n",
       "    }\n",
       "\n",
       "    [theme=dark] .colab-df-convert {\n",
       "      background-color: #3B4455;\n",
       "      fill: #D2E3FC;\n",
       "    }\n",
       "\n",
       "    [theme=dark] .colab-df-convert:hover {\n",
       "      background-color: #434B5C;\n",
       "      box-shadow: 0px 1px 3px 1px rgba(0, 0, 0, 0.15);\n",
       "      filter: drop-shadow(0px 1px 2px rgba(0, 0, 0, 0.3));\n",
       "      fill: #FFFFFF;\n",
       "    }\n",
       "  </style>\n",
       "\n",
       "      <script>\n",
       "        const buttonEl =\n",
       "          document.querySelector('#df-02db22ee-ee7d-414e-bcd9-a13f6134af6f button.colab-df-convert');\n",
       "        buttonEl.style.display =\n",
       "          google.colab.kernel.accessAllowed ? 'block' : 'none';\n",
       "\n",
       "        async function convertToInteractive(key) {\n",
       "          const element = document.querySelector('#df-02db22ee-ee7d-414e-bcd9-a13f6134af6f');\n",
       "          const dataTable =\n",
       "            await google.colab.kernel.invokeFunction('convertToInteractive',\n",
       "                                                     [key], {});\n",
       "          if (!dataTable) return;\n",
       "\n",
       "          const docLinkHtml = 'Like what you see? Visit the ' +\n",
       "            '<a target=\"_blank\" href=https://colab.research.google.com/notebooks/data_table.ipynb>data table notebook</a>'\n",
       "            + ' to learn more about interactive tables.';\n",
       "          element.innerHTML = '';\n",
       "          dataTable['output_type'] = 'display_data';\n",
       "          await google.colab.output.renderOutput(dataTable, element);\n",
       "          const docLink = document.createElement('div');\n",
       "          docLink.innerHTML = docLinkHtml;\n",
       "          element.appendChild(docLink);\n",
       "        }\n",
       "      </script>\n",
       "    </div>\n",
       "  </div>\n",
       "  "
      ],
      "text/plain": [
       "      price  area  bedrooms  ...  parking  prefarea furnishingstatus\n",
       "0  13300000  7420         4  ...        2       yes        furnished\n",
       "1  12250000  8960         4  ...        3        no        furnished\n",
       "2  12250000  9960         3  ...        2       yes   semi-furnished\n",
       "3  12215000  7500         4  ...        3       yes        furnished\n",
       "4  11410000  7420         4  ...        2        no        furnished\n",
       "\n",
       "[5 rows x 13 columns]"
      ]
     },
     "execution_count": 117,
     "metadata": {},
     "output_type": "execute_result"
    }
   ],
   "source": [
    "\n",
    "import numpy as np\n",
    "import pandas as pd\n",
    "import matplotlib.pyplot as plt\n",
    "import seaborn as sns\n",
    "\n",
    "\n",
    "df = pd.read_csv('https://student-datasets-bucket.s3.ap-south-1.amazonaws.com/whitehat-ds-datasets/house-prices.csv')\n",
    "\n",
    "df.head()\n",
    "\n"
   ]
  },
  {
   "cell_type": "code",
   "execution_count": null,
   "metadata": {
    "colab": {
     "base_uri": "https://localhost:8080/"
    },
    "id": "8IXJUhvx1Omc",
    "outputId": "11f8c243-1575-45fe-8dc5-68c83a161a0c"
   },
   "outputs": [
    {
     "name": "stdout",
     "output_type": "stream",
     "text": [
      "<class 'pandas.core.frame.DataFrame'>\n",
      "RangeIndex: 545 entries, 0 to 544\n",
      "Data columns (total 13 columns):\n",
      " #   Column            Non-Null Count  Dtype \n",
      "---  ------            --------------  ----- \n",
      " 0   price             545 non-null    int64 \n",
      " 1   area              545 non-null    int64 \n",
      " 2   bedrooms          545 non-null    int64 \n",
      " 3   bathrooms         545 non-null    int64 \n",
      " 4   stories           545 non-null    int64 \n",
      " 5   mainroad          545 non-null    object\n",
      " 6   guestroom         545 non-null    object\n",
      " 7   basement          545 non-null    object\n",
      " 8   hotwaterheating   545 non-null    object\n",
      " 9   airconditioning   545 non-null    object\n",
      " 10  parking           545 non-null    int64 \n",
      " 11  prefarea          545 non-null    object\n",
      " 12  furnishingstatus  545 non-null    object\n",
      "dtypes: int64(6), object(7)\n",
      "memory usage: 55.5+ KB\n"
     ]
    }
   ],
   "source": [
    "#information on DataFrame.\n",
    "\n",
    "df.info()\n"
   ]
  },
  {
   "cell_type": "code",
   "execution_count": null,
   "metadata": {
    "colab": {
     "base_uri": "https://localhost:8080/"
    },
    "id": "HB5wwgC1fO7Q",
    "outputId": "c785fe98-dd63-4927-9251-acd254768129"
   },
   "outputs": [
    {
     "data": {
      "text/plain": [
       "price               0\n",
       "area                0\n",
       "bedrooms            0\n",
       "bathrooms           0\n",
       "stories             0\n",
       "mainroad            0\n",
       "guestroom           0\n",
       "basement            0\n",
       "hotwaterheating     0\n",
       "airconditioning     0\n",
       "parking             0\n",
       "prefarea            0\n",
       "furnishingstatus    0\n",
       "dtype: int64"
      ]
     },
     "execution_count": 119,
     "metadata": {},
     "output_type": "execute_result"
    }
   ],
   "source": [
    "# Checking if there are any NULL values.\n",
    "\n",
    "df.isnull().sum()\n"
   ]
  },
  {
   "cell_type": "markdown",
   "metadata": {
    "id": "zCfhAcHAYvS4"
   },
   "source": [
    "---"
   ]
  },
  {
   "cell_type": "code",
   "execution_count": null,
   "metadata": {
    "colab": {
     "base_uri": "https://localhost:8080/",
     "height": 206
    },
    "id": "BE095lJ7mTE6",
    "outputId": "16e2e45b-8f94-4a97-8ea1-2970e0588f2a"
   },
   "outputs": [
    {
     "data": {
      "text/html": [
       "\n",
       "  <div id=\"df-f89e5dbd-ced8-4391-a837-042d19f342e3\">\n",
       "    <div class=\"colab-df-container\">\n",
       "      <div>\n",
       "<style scoped>\n",
       "    .dataframe tbody tr th:only-of-type {\n",
       "        vertical-align: middle;\n",
       "    }\n",
       "\n",
       "    .dataframe tbody tr th {\n",
       "        vertical-align: top;\n",
       "    }\n",
       "\n",
       "    .dataframe thead th {\n",
       "        text-align: right;\n",
       "    }\n",
       "</style>\n",
       "<table border=\"1\" class=\"dataframe\">\n",
       "  <thead>\n",
       "    <tr style=\"text-align: right;\">\n",
       "      <th></th>\n",
       "      <th>mainroad</th>\n",
       "      <th>guestroom</th>\n",
       "      <th>basement</th>\n",
       "      <th>hotwaterheating</th>\n",
       "      <th>airconditioning</th>\n",
       "      <th>prefarea</th>\n",
       "      <th>furnishingstatus</th>\n",
       "    </tr>\n",
       "  </thead>\n",
       "  <tbody>\n",
       "    <tr>\n",
       "      <th>0</th>\n",
       "      <td>yes</td>\n",
       "      <td>no</td>\n",
       "      <td>no</td>\n",
       "      <td>no</td>\n",
       "      <td>yes</td>\n",
       "      <td>yes</td>\n",
       "      <td>furnished</td>\n",
       "    </tr>\n",
       "    <tr>\n",
       "      <th>1</th>\n",
       "      <td>yes</td>\n",
       "      <td>no</td>\n",
       "      <td>no</td>\n",
       "      <td>no</td>\n",
       "      <td>yes</td>\n",
       "      <td>no</td>\n",
       "      <td>furnished</td>\n",
       "    </tr>\n",
       "    <tr>\n",
       "      <th>2</th>\n",
       "      <td>yes</td>\n",
       "      <td>no</td>\n",
       "      <td>yes</td>\n",
       "      <td>no</td>\n",
       "      <td>no</td>\n",
       "      <td>yes</td>\n",
       "      <td>semi-furnished</td>\n",
       "    </tr>\n",
       "    <tr>\n",
       "      <th>3</th>\n",
       "      <td>yes</td>\n",
       "      <td>no</td>\n",
       "      <td>yes</td>\n",
       "      <td>no</td>\n",
       "      <td>yes</td>\n",
       "      <td>yes</td>\n",
       "      <td>furnished</td>\n",
       "    </tr>\n",
       "    <tr>\n",
       "      <th>4</th>\n",
       "      <td>yes</td>\n",
       "      <td>yes</td>\n",
       "      <td>yes</td>\n",
       "      <td>no</td>\n",
       "      <td>yes</td>\n",
       "      <td>no</td>\n",
       "      <td>furnished</td>\n",
       "    </tr>\n",
       "  </tbody>\n",
       "</table>\n",
       "</div>\n",
       "      <button class=\"colab-df-convert\" onclick=\"convertToInteractive('df-f89e5dbd-ced8-4391-a837-042d19f342e3')\"\n",
       "              title=\"Convert this dataframe to an interactive table.\"\n",
       "              style=\"display:none;\">\n",
       "        \n",
       "  <svg xmlns=\"http://www.w3.org/2000/svg\" height=\"24px\"viewBox=\"0 0 24 24\"\n",
       "       width=\"24px\">\n",
       "    <path d=\"M0 0h24v24H0V0z\" fill=\"none\"/>\n",
       "    <path d=\"M18.56 5.44l.94 2.06.94-2.06 2.06-.94-2.06-.94-.94-2.06-.94 2.06-2.06.94zm-11 1L8.5 8.5l.94-2.06 2.06-.94-2.06-.94L8.5 2.5l-.94 2.06-2.06.94zm10 10l.94 2.06.94-2.06 2.06-.94-2.06-.94-.94-2.06-.94 2.06-2.06.94z\"/><path d=\"M17.41 7.96l-1.37-1.37c-.4-.4-.92-.59-1.43-.59-.52 0-1.04.2-1.43.59L10.3 9.45l-7.72 7.72c-.78.78-.78 2.05 0 2.83L4 21.41c.39.39.9.59 1.41.59.51 0 1.02-.2 1.41-.59l7.78-7.78 2.81-2.81c.8-.78.8-2.07 0-2.86zM5.41 20L4 18.59l7.72-7.72 1.47 1.35L5.41 20z\"/>\n",
       "  </svg>\n",
       "      </button>\n",
       "      \n",
       "  <style>\n",
       "    .colab-df-container {\n",
       "      display:flex;\n",
       "      flex-wrap:wrap;\n",
       "      gap: 12px;\n",
       "    }\n",
       "\n",
       "    .colab-df-convert {\n",
       "      background-color: #E8F0FE;\n",
       "      border: none;\n",
       "      border-radius: 50%;\n",
       "      cursor: pointer;\n",
       "      display: none;\n",
       "      fill: #1967D2;\n",
       "      height: 32px;\n",
       "      padding: 0 0 0 0;\n",
       "      width: 32px;\n",
       "    }\n",
       "\n",
       "    .colab-df-convert:hover {\n",
       "      background-color: #E2EBFA;\n",
       "      box-shadow: 0px 1px 2px rgba(60, 64, 67, 0.3), 0px 1px 3px 1px rgba(60, 64, 67, 0.15);\n",
       "      fill: #174EA6;\n",
       "    }\n",
       "\n",
       "    [theme=dark] .colab-df-convert {\n",
       "      background-color: #3B4455;\n",
       "      fill: #D2E3FC;\n",
       "    }\n",
       "\n",
       "    [theme=dark] .colab-df-convert:hover {\n",
       "      background-color: #434B5C;\n",
       "      box-shadow: 0px 1px 3px 1px rgba(0, 0, 0, 0.15);\n",
       "      filter: drop-shadow(0px 1px 2px rgba(0, 0, 0, 0.3));\n",
       "      fill: #FFFFFF;\n",
       "    }\n",
       "  </style>\n",
       "\n",
       "      <script>\n",
       "        const buttonEl =\n",
       "          document.querySelector('#df-f89e5dbd-ced8-4391-a837-042d19f342e3 button.colab-df-convert');\n",
       "        buttonEl.style.display =\n",
       "          google.colab.kernel.accessAllowed ? 'block' : 'none';\n",
       "\n",
       "        async function convertToInteractive(key) {\n",
       "          const element = document.querySelector('#df-f89e5dbd-ced8-4391-a837-042d19f342e3');\n",
       "          const dataTable =\n",
       "            await google.colab.kernel.invokeFunction('convertToInteractive',\n",
       "                                                     [key], {});\n",
       "          if (!dataTable) return;\n",
       "\n",
       "          const docLinkHtml = 'Like what you see? Visit the ' +\n",
       "            '<a target=\"_blank\" href=https://colab.research.google.com/notebooks/data_table.ipynb>data table notebook</a>'\n",
       "            + ' to learn more about interactive tables.';\n",
       "          element.innerHTML = '';\n",
       "          dataTable['output_type'] = 'display_data';\n",
       "          await google.colab.output.renderOutput(dataTable, element);\n",
       "          const docLink = document.createElement('div');\n",
       "          docLink.innerHTML = docLinkHtml;\n",
       "          element.appendChild(docLink);\n",
       "        }\n",
       "      </script>\n",
       "    </div>\n",
       "  </div>\n",
       "  "
      ],
      "text/plain": [
       "  mainroad guestroom basement  ... airconditioning prefarea furnishingstatus\n",
       "0      yes        no       no  ...             yes      yes        furnished\n",
       "1      yes        no       no  ...             yes       no        furnished\n",
       "2      yes        no      yes  ...              no      yes   semi-furnished\n",
       "3      yes        no      yes  ...             yes      yes        furnished\n",
       "4      yes       yes      yes  ...             yes       no        furnished\n",
       "\n",
       "[5 rows x 7 columns]"
      ]
     },
     "execution_count": 120,
     "metadata": {},
     "output_type": "execute_result"
    }
   ],
   "source": [
    "# Checking categorical attributes\n",
    "\n",
    "df1 = df.select_dtypes(include = 'object')\n",
    "\n",
    "df1.head()\n"
   ]
  },
  {
   "cell_type": "code",
   "execution_count": null,
   "metadata": {
    "colab": {
     "base_uri": "https://localhost:8080/",
     "height": 567
    },
    "id": "eiF5b2D1yKDw",
    "outputId": "61bad89e-93dd-4bad-e2bd-ebdfe40b5cf5"
   },
   "outputs": [
    {
     "data": {
      "image/png": "[encoded data removed]",
      "text/plain": [
       "<Figure size 1296x648 with 1 Axes>"
      ]
     },
     "metadata": {
      "needs_background": "light"
     },
     "output_type": "display_data"
    }
   ],
   "source": [
    "# Boxplot for 'mainroad' vs 'price'\n",
    "\n",
    "plt.figure(figsize = (18,9))\n",
    "\n",
    "plt.title('Box plot between mainroad and price')\n",
    "\n",
    "sns.boxplot(x = 'mainroad',y = 'price',data = df)\n",
    "\n",
    "plt.show()\n",
    "\n"
   ]
  },
  {
   "cell_type": "code",
   "execution_count": null,
   "metadata": {
    "colab": {
     "base_uri": "https://localhost:8080/",
     "height": 567
    },
    "id": "weHLdEjnyaE2",
    "outputId": "ad5a6289-fb18-4934-f44e-3cdfcd5e0752"
   },
   "outputs": [
    {
     "data": {
      "image/png": "[encoded data removed]",
      "text/plain": [
       "<Figure size 1296x648 with 1 Axes>"
      ]
     },
     "metadata": {
      "needs_background": "light"
     },
     "output_type": "display_data"
    }
   ],
   "source": [
    "# Boxplot for 'guestroom' vs 'price'\n",
    "\n",
    "plt.figure(figsize = (18,9))\n",
    "\n",
    "plt.title('Box plot between guestroom and price')\n",
    "\n",
    "sns.boxplot(x = 'guestroom',y = 'price',data = df)\n",
    "\n",
    "plt.show()\n",
    "\n"
   ]
  },
  {
   "cell_type": "code",
   "execution_count": null,
   "metadata": {
    "colab": {
     "base_uri": "https://localhost:8080/",
     "height": 567
    },
    "id": "p09SUbbhympd",
    "outputId": "822edc97-cbd1-4938-c3d0-b2db70509d53"
   },
   "outputs": [
    {
     "data": {
      "image/png": "[encoded data removed]",
      "text/plain": [
       "<Figure size 1296x648 with 1 Axes>"
      ]
     },
     "metadata": {
      "needs_background": "light"
     },
     "output_type": "display_data"
    }
   ],
   "source": [
    "# Boxplot for 'basement' vs 'price'\n",
    "\n",
    "plt.figure(figsize = (18,9))\n",
    "\n",
    "plt.title('Box plot between basement and price')\n",
    "\n",
    "sns.boxplot(x = 'basement',y = 'price',data = df)\n",
    "\n",
    "plt.show()\n"
   ]
  },
  {
   "cell_type": "code",
   "execution_count": null,
   "metadata": {
    "colab": {
     "base_uri": "https://localhost:8080/",
     "height": 567
    },
    "id": "kth0hysho8Zc",
    "outputId": "56bc82ee-35a1-48c1-c61c-12bdb5867fd6"
   },
   "outputs": [
    {
     "data": {
      "image/png": "[encoded data removed]",
      "text/plain": [
       "<Figure size 1296x648 with 1 Axes>"
      ]
     },
     "metadata": {
      "needs_background": "light"
     },
     "output_type": "display_data"
    }
   ],
   "source": [
    "# Boxplot for 'hotwaterheating' vs 'price'\n",
    "\n",
    "plt.figure(figsize = (18,9))\n",
    "\n",
    "plt.title('Box plot between hotwaterheating and price')\n",
    "\n",
    "sns.boxplot(x = 'hotwaterheating',y = 'price',data = df)\n",
    "\n",
    "plt.show()\n"
   ]
  },
  {
   "cell_type": "code",
   "execution_count": null,
   "metadata": {
    "colab": {
     "base_uri": "https://localhost:8080/",
     "height": 567
    },
    "id": "We94X-Dfo9BZ",
    "outputId": "5fcfe041-d8a4-453b-ae38-11aae80524aa"
   },
   "outputs": [
    {
     "data": {
      "image/png": "[encoded data removed]",
      "text/plain": [
       "<Figure size 1296x648 with 1 Axes>"
      ]
     },
     "metadata": {
      "needs_background": "light"
     },
     "output_type": "display_data"
    }
   ],
   "source": [
    "# Boxplot for 'airconditioning' vs 'price'\n",
    "\n",
    "plt.figure(figsize = (18,9))\n",
    "\n",
    "plt.title('Box plot between airconditioning and price')\n",
    "\n",
    "sns.boxplot(x = 'airconditioning',y = 'price',data = df)\n",
    "\n",
    "plt.show()\n"
   ]
  },
  {
   "cell_type": "code",
   "execution_count": null,
   "metadata": {
    "colab": {
     "base_uri": "https://localhost:8080/",
     "height": 567
    },
    "id": "nfa6bSKIo98Y",
    "outputId": "7a332f15-b237-4a10-a180-aa2877cf92a3"
   },
   "outputs": [
    {
     "data": {
      "image/png": "[encoded data removed]",
      "text/plain": [
       "<Figure size 1296x648 with 1 Axes>"
      ]
     },
     "metadata": {
      "needs_background": "light"
     },
     "output_type": "display_data"
    }
   ],
   "source": [
    "# Boxplot for 'prefarea' vs 'price'\n",
    "\n",
    "plt.figure(figsize = (18,9))\n",
    "\n",
    "plt.title('Box plot between prefarea and price')\n",
    "\n",
    "sns.boxplot(x = 'prefarea',y = 'price',data = df)\n",
    "\n",
    "plt.show()\n"
   ]
  },
  {
   "cell_type": "code",
   "execution_count": null,
   "metadata": {
    "colab": {
     "base_uri": "https://localhost:8080/",
     "height": 567
    },
    "id": "d1OlbcvXjy4s",
    "outputId": "28e9f19c-ac93-4155-e587-6899a52beb1d"
   },
   "outputs": [
    {
     "data": {
      "image/png": "[encoded data removed]",
      "text/plain": [
       "<Figure size 1296x648 with 1 Axes>"
      ]
     },
     "metadata": {
      "needs_background": "light"
     },
     "output_type": "display_data"
    }
   ],
   "source": [
    "# Boxplot for 'furnishingstatus' vs 'price'\n",
    "\n",
    "plt.figure(figsize = (18,9))\n",
    "\n",
    "plt.title('Box plot between furnishingstatus and price')\n",
    "\n",
    "sns.boxplot(x = 'furnishingstatus',y = 'price',data = df)\n",
    "\n",
    "plt.show()\n"
   ]
  },
  {
   "cell_type": "code",
   "execution_count": null,
   "metadata": {
    "colab": {
     "base_uri": "https://localhost:8080/",
     "height": 567
    },
    "id": "pnJ_Yv9MzSn8",
    "outputId": "c3534324-90e9-4104-cb93-1683f767abc4"
   },
   "outputs": [
    {
     "data": {
      "image/png": "[encoded data removed]",
      "text/plain": [
       "<Figure size 864x648 with 1 Axes>"
      ]
     },
     "metadata": {
      "needs_background": "light"
     },
     "output_type": "display_data"
    }
   ],
   "source": [
    "# Creating scatter plot with 'area' on X-axis and 'price' on Y-axis\n",
    "\n",
    "plt.figure(figsize = (12,9))\n",
    "\n",
    "plt.title('Scatter plot between area and price')\n",
    "\n",
    "plt.scatter('area', 'price',data = df)\n",
    "\n",
    "plt.xlabel('area')\n",
    "\n",
    "plt.ylabel('price')\n",
    "\n",
    "plt.show()\n"
   ]
  },
  {
   "cell_type": "code",
   "execution_count": null,
   "metadata": {
    "colab": {
     "base_uri": "https://localhost:8080/",
     "height": 567
    },
    "id": "is7gd_Z1p4y7",
    "outputId": "e114587c-d1a8-4cc3-ec71-db10c1adf2a3"
   },
   "outputs": [
    {
     "data": {
      "image/png": "[encoded data removed]",
      "text/plain": [
       "<Figure size 864x648 with 1 Axes>"
      ]
     },
     "metadata": {
      "needs_background": "light"
     },
     "output_type": "display_data"
    }
   ],
   "source": [
    "# Creating scatter plot with 'bedrooms' on X-axis and 'price' on Y-axis\n",
    "\n",
    "plt.figure(figsize = (12,9))\n",
    "\n",
    "plt.title('Scatter plot between bedroom and price')\n",
    "\n",
    "plt.scatter('bedrooms', 'price',data = df)\n",
    "\n",
    "plt.xlabel('bedrooms')\n",
    "\n",
    "plt.ylabel('price')\n",
    "\n",
    "plt.show()\n"
   ]
  },
  {
   "cell_type": "code",
   "execution_count": null,
   "metadata": {
    "colab": {
     "base_uri": "https://localhost:8080/",
     "height": 567
    },
    "id": "2nawvemNp5jO",
    "outputId": "4a136873-7606-4f06-aba3-3dfe46c5c9b6"
   },
   "outputs": [
    {
     "data": {
      "image/png": "[encoded data removed]",
      "text/plain": [
       "<Figure size 864x648 with 1 Axes>"
      ]
     },
     "metadata": {
      "needs_background": "light"
     },
     "output_type": "display_data"
    }
   ],
   "source": [
    "# Creating scatter plot with 'bathrooms' on X-axis and 'price' on Y-axis\n",
    "\n",
    "plt.figure(figsize = (12,9))\n",
    "\n",
    "plt.title('Scatter plot between bathrooms and price')\n",
    "\n",
    "plt.scatter('bathrooms', 'price',data = df)\n",
    "\n",
    "plt.xlabel('stories')\n",
    "\n",
    "plt.ylabel('price')\n",
    "\n",
    "plt.show()\n"
   ]
  },
  {
   "cell_type": "code",
   "execution_count": null,
   "metadata": {
    "colab": {
     "base_uri": "https://localhost:8080/",
     "height": 567
    },
    "id": "PDfLIRf0p6b1",
    "outputId": "2d3115e7-aed5-4bb0-f37f-c7174df03790"
   },
   "outputs": [
    {
     "data": {
      "image/png": "[encoded data removed]",
      "text/plain": [
       "<Figure size 864x648 with 1 Axes>"
      ]
     },
     "metadata": {
      "needs_background": "light"
     },
     "output_type": "display_data"
    }
   ],
   "source": [
    "# Creating scatter plot with 'stories' on X-axis and 'price' on Y-axis\n",
    "\n",
    "plt.figure(figsize = (12,9))\n",
    "\n",
    "plt.title('Scatter plot between stories and price')\n",
    "\n",
    "plt.scatter('stories', 'price',data = df)\n",
    "\n",
    "plt.xlabel('stories')\n",
    "\n",
    "plt.ylabel('price')\n",
    "\n",
    "plt.show()\n"
   ]
  },
  {
   "cell_type": "code",
   "execution_count": null,
   "metadata": {
    "colab": {
     "base_uri": "https://localhost:8080/",
     "height": 513
    },
    "id": "QIpsz4Gd5M-e",
    "outputId": "a7574827-bd64-4048-a6fe-6a926f1b8887"
   },
   "outputs": [
    {
     "data": {
      "image/png": "[encoded data removed]",
      "text/plain": [
       "<Figure size 1368x576 with 1 Axes>"
      ]
     },
     "metadata": {
      "needs_background": "light"
     },
     "output_type": "display_data"
    }
   ],
   "source": [
    "# Creating a probablity density function for plotting the normal distribution\n",
    "\n",
    "\n",
    "def probability_density(series):\n",
    "\n",
    "  const = 1/(series.std()*np.sqrt(2*np.pi))\n",
    "\n",
    "  power_of_e = -(series- series.mean())**2/(2*series.var()**2)\n",
    "\n",
    "  probability_density = const * np.exp(power_of_e)\n",
    "\n",
    "  return probability_density\n",
    "\n",
    "\n",
    "#  the normal distribution curve using plt.scatter() \n",
    "\n",
    "\n",
    "series = df['price']\n",
    "\n",
    "prob_d = probability_density(series)\n",
    "\n",
    "plt.figure(figsize= (19,8))\n",
    "\n",
    "plt.scatter(series,prob_d)\n",
    "\n",
    "plt.title('Normal distribution for price of diamonds.')\n",
    "\n",
    "plt.axvline(x = series.mean(),label = 'Mean')\n",
    "\n",
    "plt.xlabel('Price of Diamonds')\n",
    "\n",
    "plt.legend()\n",
    "\n",
    "plt.show()\n"
   ]
  },
  {
   "cell_type": "markdown",
   "metadata": {
    "id": "AnYUk03JZHNW"
   },
   "source": [
    "---"
   ]
  },
  {
   "cell_type": "code",
   "execution_count": null,
   "metadata": {
    "id": "KtUqbj3nrpsw"
   },
   "outputs": [],
   "source": [
    "# Replacing yes with 1 and no with 0 for all the values in features 'mainroad', 'guestroom', 'basement', 'hotwaterheating', 'airconditioning', 'prefarea' using map() function.\n",
    "\n",
    "num_dict = {'yes':1, 'no':0}        # defining a dictionary to replace yes and no with 1 and 0\n",
    "\n",
    "\n",
    "def num_map(series):                #defining a function to map dictionary in series\n",
    "\n",
    "  return series.map(num_dict)\n",
    "\n",
    "# replacing yes and no in datafram with 1 and 0\n",
    "\n",
    "df[['mainroad','guestroom','basement','hotwaterheating','airconditioning','prefarea']] = df[['mainroad','guestroom','basement','hotwaterheating','airconditioning','prefarea']].apply(num_map, axis = 1)\n",
    "\n",
    "\n"
   ]
  },
  {
   "cell_type": "code",
   "execution_count": null,
   "metadata": {
    "colab": {
     "base_uri": "https://localhost:8080/"
    },
    "id": "NyBVyE1mrwg1",
    "outputId": "d3856f93-b021-4b06-ed39-b6bad3d15a47"
   },
   "outputs": [
    {
     "name": "stdout",
     "output_type": "stream",
     "text": [
      "DataFrame after replacing yes and no with 1 and 0 :\n",
      "       price  area  bedrooms  ...  parking  prefarea  furnishingstatus\n",
      "0  13300000  7420         4  ...        2         1         furnished\n",
      "1  12250000  8960         4  ...        3         0         furnished\n",
      "2  12250000  9960         3  ...        2         1    semi-furnished\n",
      "3  12215000  7500         4  ...        3         1         furnished\n",
      "4  11410000  7420         4  ...        2         0         furnished\n",
      "\n",
      "[5 rows x 13 columns]\n"
     ]
    }
   ],
   "source": [
    "# Printing dataframe\n",
    "\n",
    "print('DataFrame after replacing yes and no with 1 and 0 :\\n',df.head())\n"
   ]
  },
  {
   "cell_type": "code",
   "execution_count": null,
   "metadata": {
    "colab": {
     "base_uri": "https://localhost:8080/"
    },
    "id": "7tW6UnmfH6nM",
    "outputId": "3db80b66-affb-4fcc-d689-61ecce1afb37"
   },
   "outputs": [
    {
     "data": {
      "text/plain": [
       "semi-furnished    227\n",
       "unfurnished       178\n",
       "furnished         140\n",
       "Name: furnishingstatus, dtype: int64"
      ]
     },
     "execution_count": 136,
     "metadata": {},
     "output_type": "execute_result"
    }
   ],
   "source": [
    "# Getting counts of each value in furnishingstatus\n",
    "\n",
    "df['furnishingstatus'].value_counts()\n"
   ]
  },
  {
   "cell_type": "code",
   "execution_count": null,
   "metadata": {
    "colab": {
     "base_uri": "https://localhost:8080/"
    },
    "id": "uZQ5753MkgUn",
    "outputId": "849d0104-f135-41a9-d4d0-159eec7f50ea"
   },
   "outputs": [
    {
     "name": "stdout",
     "output_type": "stream",
     "text": [
      "     furnished  semi-furnished  unfurnished\n",
      "0            1               0            0\n",
      "1            1               0            0\n",
      "2            0               1            0\n",
      "3            1               0            0\n",
      "4            1               0            0\n",
      "..         ...             ...          ...\n",
      "540          0               0            1\n",
      "541          0               1            0\n",
      "542          0               0            1\n",
      "543          1               0            0\n",
      "544          0               0            1\n",
      "\n",
      "[545 rows x 3 columns]\n"
     ]
    }
   ],
   "source": [
    "# Performing one hot encoding for furnishingstatus feature.\n",
    "\n",
    "df_dummies = pd.get_dummies(df['furnishingstatus'], dtype = int)\n",
    "\n",
    "print(df_dummies)\n"
   ]
  },
  {
   "cell_type": "code",
   "execution_count": null,
   "metadata": {
    "id": "v7j60gXuxkSo"
   },
   "outputs": [],
   "source": [
    "# Droping 'furnishingstatus' feature\n",
    "\n",
    "df.drop(columns= 'furnishingstatus', inplace = True)\n",
    "\n",
    "df = pd.concat([df, df_dummies], axis = 1)\n",
    "\n"
   ]
  },
  {
   "cell_type": "code",
   "execution_count": null,
   "metadata": {
    "colab": {
     "base_uri": "https://localhost:8080/",
     "height": 250
    },
    "id": "98TkE-Uvxu1W",
    "outputId": "7f9cf334-371c-400a-aa79-17c04aed07d8"
   },
   "outputs": [
    {
     "data": {
      "text/html": [
       "\n",
       "  <div id=\"df-129bf077-0c28-4ce7-96e3-aeb5d29824fb\">\n",
       "    <div class=\"colab-df-container\">\n",
       "      <div>\n",
       "<style scoped>\n",
       "    .dataframe tbody tr th:only-of-type {\n",
       "        vertical-align: middle;\n",
       "    }\n",
       "\n",
       "    .dataframe tbody tr th {\n",
       "        vertical-align: top;\n",
       "    }\n",
       "\n",
       "    .dataframe thead th {\n",
       "        text-align: right;\n",
       "    }\n",
       "</style>\n",
       "<table border=\"1\" class=\"dataframe\">\n",
       "  <thead>\n",
       "    <tr style=\"text-align: right;\">\n",
       "      <th></th>\n",
       "      <th>price</th>\n",
       "      <th>area</th>\n",
       "      <th>bedrooms</th>\n",
       "      <th>bathrooms</th>\n",
       "      <th>stories</th>\n",
       "      <th>mainroad</th>\n",
       "      <th>guestroom</th>\n",
       "      <th>basement</th>\n",
       "      <th>hotwaterheating</th>\n",
       "      <th>airconditioning</th>\n",
       "      <th>parking</th>\n",
       "      <th>prefarea</th>\n",
       "      <th>furnished</th>\n",
       "      <th>semi-furnished</th>\n",
       "      <th>unfurnished</th>\n",
       "    </tr>\n",
       "  </thead>\n",
       "  <tbody>\n",
       "    <tr>\n",
       "      <th>0</th>\n",
       "      <td>13300000</td>\n",
       "      <td>7420</td>\n",
       "      <td>4</td>\n",
       "      <td>2</td>\n",
       "      <td>3</td>\n",
       "      <td>1</td>\n",
       "      <td>0</td>\n",
       "      <td>0</td>\n",
       "      <td>0</td>\n",
       "      <td>1</td>\n",
       "      <td>2</td>\n",
       "      <td>1</td>\n",
       "      <td>1</td>\n",
       "      <td>0</td>\n",
       "      <td>0</td>\n",
       "    </tr>\n",
       "    <tr>\n",
       "      <th>1</th>\n",
       "      <td>12250000</td>\n",
       "      <td>8960</td>\n",
       "      <td>4</td>\n",
       "      <td>4</td>\n",
       "      <td>4</td>\n",
       "      <td>1</td>\n",
       "      <td>0</td>\n",
       "      <td>0</td>\n",
       "      <td>0</td>\n",
       "      <td>1</td>\n",
       "      <td>3</td>\n",
       "      <td>0</td>\n",
       "      <td>1</td>\n",
       "      <td>0</td>\n",
       "      <td>0</td>\n",
       "    </tr>\n",
       "    <tr>\n",
       "      <th>2</th>\n",
       "      <td>12250000</td>\n",
       "      <td>9960</td>\n",
       "      <td>3</td>\n",
       "      <td>2</td>\n",
       "      <td>2</td>\n",
       "      <td>1</td>\n",
       "      <td>0</td>\n",
       "      <td>1</td>\n",
       "      <td>0</td>\n",
       "      <td>0</td>\n",
       "      <td>2</td>\n",
       "      <td>1</td>\n",
       "      <td>0</td>\n",
       "      <td>1</td>\n",
       "      <td>0</td>\n",
       "    </tr>\n",
       "    <tr>\n",
       "      <th>3</th>\n",
       "      <td>12215000</td>\n",
       "      <td>7500</td>\n",
       "      <td>4</td>\n",
       "      <td>2</td>\n",
       "      <td>2</td>\n",
       "      <td>1</td>\n",
       "      <td>0</td>\n",
       "      <td>1</td>\n",
       "      <td>0</td>\n",
       "      <td>1</td>\n",
       "      <td>3</td>\n",
       "      <td>1</td>\n",
       "      <td>1</td>\n",
       "      <td>0</td>\n",
       "      <td>0</td>\n",
       "    </tr>\n",
       "    <tr>\n",
       "      <th>4</th>\n",
       "      <td>11410000</td>\n",
       "      <td>7420</td>\n",
       "      <td>4</td>\n",
       "      <td>1</td>\n",
       "      <td>2</td>\n",
       "      <td>1</td>\n",
       "      <td>1</td>\n",
       "      <td>1</td>\n",
       "      <td>0</td>\n",
       "      <td>1</td>\n",
       "      <td>2</td>\n",
       "      <td>0</td>\n",
       "      <td>1</td>\n",
       "      <td>0</td>\n",
       "      <td>0</td>\n",
       "    </tr>\n",
       "  </tbody>\n",
       "</table>\n",
       "</div>\n",
       "      <button class=\"colab-df-convert\" onclick=\"convertToInteractive('df-129bf077-0c28-4ce7-96e3-aeb5d29824fb')\"\n",
       "              title=\"Convert this dataframe to an interactive table.\"\n",
       "              style=\"display:none;\">\n",
       "        \n",
       "  <svg xmlns=\"http://www.w3.org/2000/svg\" height=\"24px\"viewBox=\"0 0 24 24\"\n",
       "       width=\"24px\">\n",
       "    <path d=\"M0 0h24v24H0V0z\" fill=\"none\"/>\n",
       "    <path d=\"M18.56 5.44l.94 2.06.94-2.06 2.06-.94-2.06-.94-.94-2.06-.94 2.06-2.06.94zm-11 1L8.5 8.5l.94-2.06 2.06-.94-2.06-.94L8.5 2.5l-.94 2.06-2.06.94zm10 10l.94 2.06.94-2.06 2.06-.94-2.06-.94-.94-2.06-.94 2.06-2.06.94z\"/><path d=\"M17.41 7.96l-1.37-1.37c-.4-.4-.92-.59-1.43-.59-.52 0-1.04.2-1.43.59L10.3 9.45l-7.72 7.72c-.78.78-.78 2.05 0 2.83L4 21.41c.39.39.9.59 1.41.59.51 0 1.02-.2 1.41-.59l7.78-7.78 2.81-2.81c.8-.78.8-2.07 0-2.86zM5.41 20L4 18.59l7.72-7.72 1.47 1.35L5.41 20z\"/>\n",
       "  </svg>\n",
       "      </button>\n",
       "      \n",
       "  <style>\n",
       "    .colab-df-container {\n",
       "      display:flex;\n",
       "      flex-wrap:wrap;\n",
       "      gap: 12px;\n",
       "    }\n",
       "\n",
       "    .colab-df-convert {\n",
       "      background-color: #E8F0FE;\n",
       "      border: none;\n",
       "      border-radius: 50%;\n",
       "      cursor: pointer;\n",
       "      display: none;\n",
       "      fill: #1967D2;\n",
       "      height: 32px;\n",
       "      padding: 0 0 0 0;\n",
       "      width: 32px;\n",
       "    }\n",
       "\n",
       "    .colab-df-convert:hover {\n",
       "      background-color: #E2EBFA;\n",
       "      box-shadow: 0px 1px 2px rgba(60, 64, 67, 0.3), 0px 1px 3px 1px rgba(60, 64, 67, 0.15);\n",
       "      fill: #174EA6;\n",
       "    }\n",
       "\n",
       "    [theme=dark] .colab-df-convert {\n",
       "      background-color: #3B4455;\n",
       "      fill: #D2E3FC;\n",
       "    }\n",
       "\n",
       "    [theme=dark] .colab-df-convert:hover {\n",
       "      background-color: #434B5C;\n",
       "      box-shadow: 0px 1px 3px 1px rgba(0, 0, 0, 0.15);\n",
       "      filter: drop-shadow(0px 1px 2px rgba(0, 0, 0, 0.3));\n",
       "      fill: #FFFFFF;\n",
       "    }\n",
       "  </style>\n",
       "\n",
       "      <script>\n",
       "        const buttonEl =\n",
       "          document.querySelector('#df-129bf077-0c28-4ce7-96e3-aeb5d29824fb button.colab-df-convert');\n",
       "        buttonEl.style.display =\n",
       "          google.colab.kernel.accessAllowed ? 'block' : 'none';\n",
       "\n",
       "        async function convertToInteractive(key) {\n",
       "          const element = document.querySelector('#df-129bf077-0c28-4ce7-96e3-aeb5d29824fb');\n",
       "          const dataTable =\n",
       "            await google.colab.kernel.invokeFunction('convertToInteractive',\n",
       "                                                     [key], {});\n",
       "          if (!dataTable) return;\n",
       "\n",
       "          const docLinkHtml = 'Like what you see? Visit the ' +\n",
       "            '<a target=\"_blank\" href=https://colab.research.google.com/notebooks/data_table.ipynb>data table notebook</a>'\n",
       "            + ' to learn more about interactive tables.';\n",
       "          element.innerHTML = '';\n",
       "          dataTable['output_type'] = 'display_data';\n",
       "          await google.colab.output.renderOutput(dataTable, element);\n",
       "          const docLink = document.createElement('div');\n",
       "          docLink.innerHTML = docLinkHtml;\n",
       "          element.appendChild(docLink);\n",
       "        }\n",
       "      </script>\n",
       "    </div>\n",
       "  </div>\n",
       "  "
      ],
      "text/plain": [
       "      price  area  bedrooms  ...  furnished  semi-furnished  unfurnished\n",
       "0  13300000  7420         4  ...          1               0            0\n",
       "1  12250000  8960         4  ...          1               0            0\n",
       "2  12250000  9960         3  ...          0               1            0\n",
       "3  12215000  7500         4  ...          1               0            0\n",
       "4  11410000  7420         4  ...          1               0            0\n",
       "\n",
       "[5 rows x 15 columns]"
      ]
     },
     "execution_count": 139,
     "metadata": {},
     "output_type": "execute_result"
    }
   ],
   "source": [
    "\n",
    "df.head()         # Display of first five rows of dataframe\n"
   ]
  },
  {
   "cell_type": "markdown",
   "metadata": {
    "id": "zOCUEcX8uRqy"
   },
   "source": [
    "---"
   ]
  },
  {
   "cell_type": "markdown",
   "metadata": {
    "id": "DPA5gDelbIhQ"
   },
   "source": [
    "#### 4. Model Building and Evaluation \n",
    "\n",
    "Building a multiple linear regression model using the `statsmodels.api` module."
   ]
  },
  {
   "cell_type": "code",
   "execution_count": null,
   "metadata": {
    "id": "wQzZoKiQMsLe"
   },
   "outputs": [],
   "source": [
    "# Split the 'df' Dataframe into the train and test sets.\n",
    "\n",
    "\n",
    "from sklearn.model_selection import train_test_split\n",
    "\n",
    "\n",
    "train_df,test_df = train_test_split(df,test_size = 0.7,random_state = 4)\n",
    "\n"
   ]
  },
  {
   "cell_type": "code",
   "execution_count": null,
   "metadata": {
    "id": "QaMtadzBMx1b"
   },
   "outputs": [],
   "source": [
    "# separate data-frames for the feature and target variables for both the train and test sets.\n",
    "\n",
    "\n",
    "features = list(df.columns.values)                # creating list of feature variable \n",
    "\n",
    "features.remove('price')                          # removing target variale from the features\n",
    "\n",
    "\n",
    "x_train = df[features]\n",
    "\n",
    "x_test = df[features]\n",
    "\n",
    "y_train = df['price']\n",
    "\n",
    "y_test = df['price']\n",
    "\n"
   ]
  },
  {
   "cell_type": "code",
   "execution_count": null,
   "metadata": {
    "colab": {
     "base_uri": "https://localhost:8080/"
    },
    "id": "NmVNQIXoM_e7",
    "outputId": "dbf83fd7-bff4-4a6e-f34f-fbd5758df64f"
   },
   "outputs": [
    {
     "name": "stderr",
     "output_type": "stream",
     "text": [
      "/usr/local/lib/python3.7/dist-packages/statsmodels/tsa/tsatools.py:117: FutureWarning: In a future version of pandas all arguments of concat except for the argument 'objs' will be keyword-only\n",
      "  x = pd.concat(x[::order], 1)\n"
     ]
    },
    {
     "data": {
      "text/plain": [
       "const              -82315.981096\n",
       "area                  244.139386\n",
       "bedrooms           114787.560185\n",
       "bathrooms          987668.107286\n",
       "stories            450848.002859\n",
       "mainroad           421272.588726\n",
       "guestroom          300525.859636\n",
       "basement           350106.904136\n",
       "hotwaterheating    855447.145397\n",
       "airconditioning    864958.311317\n",
       "parking            277107.101342\n",
       "prefarea           651543.799863\n",
       "furnished          125087.675014\n",
       "semi-furnished      78743.055034\n",
       "unfurnished       -286146.711143\n",
       "dtype: float64"
      ]
     },
     "execution_count": 142,
     "metadata": {},
     "output_type": "execute_result"
    }
   ],
   "source": [
    "# linear regression model using all the features to predict prices.\n",
    "\n",
    "\n",
    "import statsmodels.api as sm\n",
    "\n",
    "\n",
    "sm1 = sm.add_constant(x_train)\n",
    "\n",
    "\n",
    "lin_reg = sm.OLS(y_train,sm1).fit()\n",
    "\n",
    "lin_reg.params\n",
    "\n"
   ]
  },
  {
   "cell_type": "code",
   "execution_count": null,
   "metadata": {
    "colab": {
     "base_uri": "https://localhost:8080/"
    },
    "id": "bTRC2EzPNES8",
    "outputId": "3daddb2d-4e1e-4c9f-94e3-0bc72585de28"
   },
   "outputs": [
    {
     "name": "stdout",
     "output_type": "stream",
     "text": [
      "                            OLS Regression Results                            \n",
      "==============================================================================\n",
      "Dep. Variable:                  price   R-squared:                       0.682\n",
      "Model:                            OLS   Adj. R-squared:                  0.674\n",
      "Method:                 Least Squares   F-statistic:                     87.52\n",
      "Date:                Fri, 04 Feb 2022   Prob (F-statistic):          9.07e-123\n",
      "Time:                        17:00:05   Log-Likelihood:                -8331.5\n",
      "No. Observations:                 545   AIC:                         1.669e+04\n",
      "Df Residuals:                     531   BIC:                         1.675e+04\n",
      "Df Model:                          13                                         \n",
      "Covariance Type:            nonrobust                                         \n",
      "===================================================================================\n",
      "                      coef    std err          t      P>|t|      [0.025      0.975]\n",
      "-----------------------------------------------------------------------------------\n",
      "const           -8.232e+04   1.81e+05     -0.455      0.650   -4.38e+05    2.73e+05\n",
      "area              244.1394     24.289     10.052      0.000     196.425     291.853\n",
      "bedrooms         1.148e+05   7.26e+04      1.581      0.114   -2.78e+04    2.57e+05\n",
      "bathrooms        9.877e+05   1.03e+05      9.555      0.000    7.85e+05    1.19e+06\n",
      "stories          4.508e+05   6.42e+04      7.026      0.000    3.25e+05    5.77e+05\n",
      "mainroad         4.213e+05   1.42e+05      2.962      0.003    1.42e+05    7.01e+05\n",
      "guestroom        3.005e+05   1.32e+05      2.282      0.023    4.18e+04    5.59e+05\n",
      "basement         3.501e+05    1.1e+05      3.175      0.002    1.33e+05    5.67e+05\n",
      "hotwaterheating  8.554e+05   2.23e+05      3.833      0.000    4.17e+05    1.29e+06\n",
      "airconditioning   8.65e+05   1.08e+05      7.983      0.000    6.52e+05    1.08e+06\n",
      "parking          2.771e+05   5.85e+04      4.735      0.000    1.62e+05    3.92e+05\n",
      "prefarea         6.515e+05   1.16e+05      5.632      0.000    4.24e+05    8.79e+05\n",
      "furnished        1.251e+05   1.02e+05      1.223      0.222   -7.58e+04    3.26e+05\n",
      "semi-furnished   7.874e+04    8.7e+04      0.905      0.366   -9.22e+04     2.5e+05\n",
      "unfurnished     -2.861e+05   8.19e+04     -3.492      0.001   -4.47e+05   -1.25e+05\n",
      "==============================================================================\n",
      "Omnibus:                       97.909   Durbin-Watson:                   1.209\n",
      "Prob(Omnibus):                  0.000   Jarque-Bera (JB):              258.281\n",
      "Skew:                           0.895   Prob(JB):                     8.22e-57\n",
      "Kurtosis:                       5.859   Cond. No.                     1.30e+19\n",
      "==============================================================================\n",
      "\n",
      "Warnings:\n",
      "[1] Standard Errors assume that the covariance matrix of the errors is correctly specified.\n",
      "[2] The smallest eigenvalue is  1e-28. This might indicate that there are\n",
      "strong multicollinearity problems or that the design matrix is singular.\n"
     ]
    }
   ],
   "source": [
    "# The summary of the linear regression report.\n",
    "\n",
    "print(lin_reg.summary())\n"
   ]
  },
  {
   "cell_type": "code",
   "execution_count": null,
   "metadata": {
    "colab": {
     "base_uri": "https://localhost:8080/"
    },
    "id": "J7Yt4qRL1nEE",
    "outputId": "83871337-5c2e-42b3-a421-d981b5e41f8f"
   },
   "outputs": [
    {
     "name": "stdout",
     "output_type": "stream",
     "text": [
      "The value of N is :  545\n",
      "The value of P is :  14\n"
     ]
    }
   ],
   "source": [
    "# To Calculate N and p values\n",
    "\n",
    "n = x_train.shape[0]\n",
    "\n",
    "p = x_train.shape[1]\n",
    "\n",
    "print('The value of N is : ',n)\n",
    "\n",
    "print('The value of P is : ',p)\n"
   ]
  },
  {
   "cell_type": "code",
   "execution_count": null,
   "metadata": {
    "colab": {
     "base_uri": "https://localhost:8080/"
    },
    "id": "Y5oVTSm2NI0N",
    "outputId": "a4147312-e87f-43ec-fdf8-744e30786e3b"
   },
   "outputs": [
    {
     "name": "stdout",
     "output_type": "stream",
     "text": [
      "Value of adjusted R-squared value :  0.6766792452830189\n"
     ]
    }
   ],
   "source": [
    "# Calculating the adjusted R-square value.\n",
    "\n",
    "num = (1 - 0.685)*(n - 1)\n",
    "\n",
    "den = (x_train.shape[0] - p -1 )\n",
    "\n",
    "r_adj = 1-num/den\n",
    "\n",
    "print('Value of adjusted R-squared value : ',r_adj)\n",
    "\n"
   ]
  },
  {
   "cell_type": "markdown",
   "metadata": {
    "id": "jdISoNS3dXv7"
   },
   "source": [
    "#### 5. Model Evaluation\n",
    "\n",
    "Building a multiple linear regression model  using `sklearn` module. Also, evaluating the model by calculating $R^2$, MSE, RMSE, and MAE values."
   ]
  },
  {
   "cell_type": "code",
   "execution_count": null,
   "metadata": {
    "colab": {
     "base_uri": "https://localhost:8080/"
    },
    "id": "UasyrqoReltr",
    "outputId": "e22bc4af-7694-4411-9b2b-a1402116ccab"
   },
   "outputs": [
    {
     "name": "stdout",
     "output_type": "stream",
     "text": [
      "[ 2.44139386e+02  1.14787560e+05  9.87668107e+05  4.50848003e+05\n",
      "  4.21272589e+05  3.00525860e+05  3.50106904e+05  8.55447145e+05\n",
      "  8.64958311e+05  2.77107101e+05  6.51543800e+05  1.52526335e+05\n",
      "  1.06181715e+05 -2.58708051e+05]\n"
     ]
    }
   ],
   "source": [
    "# Build multiple linear regression model using all the features\n",
    "\n",
    "from sklearn.linear_model import LinearRegression\n",
    "\n",
    "\n",
    "lin_reg1 = LinearRegression()\n",
    "\n",
    "lin_reg1.fit(x_train,y_train)\n",
    "\n",
    "\n",
    "pred_train = lin_reg1.predict(x_train)\n",
    "\n",
    "\n",
    "pred_test = lin_reg1.predict(x_test)\n",
    "\n",
    "\n",
    "print(lin_reg1.coef_)\n",
    "\n"
   ]
  },
  {
   "cell_type": "code",
   "execution_count": null,
   "metadata": {
    "colab": {
     "base_uri": "https://localhost:8080/"
    },
    "id": "O_Jn8jYZe0AJ",
    "outputId": "9be96ddf-65c0-4f2d-ce62-0de3dc5f74b5"
   },
   "outputs": [
    {
     "name": "stdout",
     "output_type": "stream",
     "text": [
      "Training set :\n",
      "r2_score : 0.6818018485540142\n",
      "mean_squared_error : 1111187722284.4001\n",
      "Mean_absolute_error : 775054.3287400283\n",
      "\n",
      "Test set :\n",
      "r2_score : 0.6818018485540142\n",
      "mean_squared_error : 1111187722284.4001\n",
      "Mean_absolute_error : 775054.3287400283\n"
     ]
    }
   ],
   "source": [
    "# Evaluation the linear regression model using the 'r2_score', 'mean_squared_error' & 'mean_absolute_error' functions of the 'sklearn' module.\n",
    "\n",
    "\n",
    "from sklearn.metrics import r2_score, mean_squared_error, mean_absolute_error,mean_squared_log_error\n",
    "\n",
    "print('Training set :')\n",
    "\n",
    "print('r2_score :',r2_score(y_train,pred_train))\n",
    "\n",
    "print('mean_squared_error :',mean_squared_error(y_train,pred_train))\n",
    "\n",
    "print('Mean_absolute_error :',mean_absolute_error(y_train,pred_train))\n",
    "\n",
    "\n",
    "print('\\nTest set :')\n",
    "\n",
    "print('r2_score :',r2_score(y_test,pred_test))\n",
    "\n",
    "print('mean_squared_error :',mean_squared_error(y_test,pred_test))\n",
    "\n",
    "print('Mean_absolute_error :',mean_absolute_error(y_test,pred_test))\n"
   ]
  },
  {
   "cell_type": "markdown",
   "metadata": {
    "id": "LYr8UQBp6AlS"
   },
   "source": [
    "#### 6. Recursive Feature Elimination\n",
    "\n",
    "Finding the best features out of all features using RFE and evaluating the model again."
   ]
  },
  {
   "cell_type": "code",
   "execution_count": null,
   "metadata": {
    "colab": {
     "base_uri": "https://localhost:8080/"
    },
    "id": "7I4LSmb0oew9",
    "outputId": "cf33e057-3860-4887-83a2-1b2a865dd99e"
   },
   "outputs": [
    {
     "name": "stdout",
     "output_type": "stream",
     "text": [
      "Number of features moderately to highly correlated with price = 11 \n",
      "\n"
     ]
    },
    {
     "data": {
      "text/plain": [
       "{'airconditioning': 0.4529540842560478,\n",
       " 'area': 0.5359973457780796,\n",
       " 'bathrooms': 0.517545339455011,\n",
       " 'bedrooms': 0.3664940257738689,\n",
       " 'furnished': 0.22935031248433113,\n",
       " 'guestroom': 0.2555172899349996,\n",
       " 'mainroad': 0.2968984892639764,\n",
       " 'parking': 0.3843936486357259,\n",
       " 'prefarea': 0.32977704986810735,\n",
       " 'stories': 0.4207123661886163,\n",
       " 'unfurnished': -0.2805873573251204}"
      ]
     },
     "execution_count": 148,
     "metadata": {},
     "output_type": "execute_result"
    }
   ],
   "source": [
    "# Creating a Python dictionary storing the moderately to highly correlated features with price and the corresponding correlation values.\n",
    "# correlation threshold to be 0.2\n",
    "\n",
    "major_features = {}\n",
    "\n",
    "for f in features:\n",
    "\n",
    "  corr_coef = np.corrcoef(df['price'], df[f])[0, 1]\n",
    "\n",
    "  if (corr_coef >= 0.2) or (corr_coef <= -0.2):\n",
    "\n",
    "    major_features[f] = corr_coef\n",
    "\n",
    "print(\"Number of features moderately to highly correlated with price =\", len(major_features), \"\\n\")\n",
    "\n",
    "major_features\n"
   ]
  },
  {
   "cell_type": "code",
   "execution_count": null,
   "metadata": {
    "colab": {
     "base_uri": "https://localhost:8080/"
    },
    "id": "VdSD1Jca7OuN",
    "outputId": "a2e514d4-ef89-4ab0-d91e-37b9212e53f6"
   },
   "outputs": [
    {
     "name": "stdout",
     "output_type": "stream",
     "text": [
      "dict_keys(['area', 'bedrooms', 'bathrooms', 'stories', 'mainroad', 'guestroom', 'airconditioning', 'parking', 'prefarea', 'furnished', 'unfurnished']) \n",
      "\n",
      "[False False  True False  True  True  True  True  True False  True] \n",
      "\n",
      "[5 3 1 2 1 1 1 1 1 4 1]\n"
     ]
    }
   ],
   "source": [
    "# Performing RFE and select best 7 features  \n",
    "\n",
    "from sklearn.feature_selection import RFE\n",
    "\n",
    "from sklearn.linear_model import LinearRegression\n",
    "\n",
    "skl_lin_reg = LinearRegression()\n",
    "\n",
    "rfe1 = RFE(skl_lin_reg, n_features_to_select = 7)\n",
    "\n",
    "rfe1.fit(x_train[major_features.keys()], y_train)\n",
    "\n",
    "print(major_features.keys(), \"\\n\") # List of features out of which 7 best featuers are to be selected by RFE.\n",
    "\n",
    "print(rfe1.support_, \"\\n\") # Array containing the boolean values      \n",
    "\n",
    "print(rfe1.ranking_) # Ranking of the features selected by RFE\n"
   ]
  },
  {
   "cell_type": "code",
   "execution_count": null,
   "metadata": {
    "colab": {
     "base_uri": "https://localhost:8080/"
    },
    "id": "vJLkGtFjxREU",
    "outputId": "d8c87536-e722-40ba-cbdc-bd6da62040ef"
   },
   "outputs": [
    {
     "data": {
      "text/plain": [
       "Index(['bathrooms', 'mainroad', 'guestroom', 'airconditioning', 'parking',\n",
       "       'prefarea', 'unfurnished'],\n",
       "      dtype='object')"
      ]
     },
     "execution_count": 150,
     "metadata": {},
     "output_type": "execute_result"
    }
   ],
   "source": [
    "# The 7 features selected by RFE in the previous step.\n",
    "\n",
    "rfe_features = x_train[major_features.keys()].columns[rfe1.support_]\n",
    "\n",
    "rfe_features\n"
   ]
  },
  {
   "cell_type": "code",
   "execution_count": null,
   "metadata": {
    "colab": {
     "base_uri": "https://localhost:8080/"
    },
    "id": "D8SxpFJh7lFq",
    "outputId": "5d35d104-07b0-4154-8abe-f175175672f3"
   },
   "outputs": [
    {
     "name": "stdout",
     "output_type": "stream",
     "text": [
      "Intercept :  1361521.5336843082 \n",
      "\n",
      "Features and their corresponding coefficients :\n",
      "\n",
      "bathrooms       1533323.888333\n",
      "mainroad        751720.543474\n",
      "guestroom       536508.016841\n",
      "airconditioning 1127177.686317\n",
      "parking         399671.670964\n",
      "prefarea        795998.758756\n",
      "unfurnished     -438133.914195\n"
     ]
    }
   ],
   "source": [
    "# Multiple linear regression model using all the features selected after RFE\n",
    "\n",
    "from sklearn.model_selection import train_test_split\n",
    "\n",
    "x1 = df[rfe_features]\n",
    "\n",
    "y1 = df['price']\n",
    "\n",
    "\n",
    "# Spliting the DataFrame into the train and test sets such that test set has 33% of the values.\n",
    "\n",
    "x1_train,x1_test,y1_train, y1_test = train_test_split(x1, y1, test_size = 0.33, random_state = 8)\n",
    "\n",
    "\n",
    "# Building linear regression model using the 'sklearn.linear_model' module.\n",
    "\n",
    "from sklearn.linear_model import LinearRegression\n",
    "\n",
    "\n",
    "lin_reg2 = LinearRegression()\n",
    "\n",
    "lin_reg2.fit(x1_train, y1_train)\n",
    "\n",
    "\n",
    "# The value of the intercept\n",
    "\n",
    "print('Intercept : ',lin_reg2.intercept_,'\\n')\n",
    "\n",
    "\n",
    "# The names of the features along with the values of their corresponding coefficients.\n",
    "\n",
    "print('Features and their corresponding coefficients :\\n')\n",
    "\n",
    "for item in list(zip(x1.columns.values, lin_reg2.coef_)):\n",
    "\n",
    "  print(f\"{item[0]}\".ljust(15, \" \"), f\"{item[1]:.6f}\")\n",
    "\n"
   ]
  },
  {
   "cell_type": "code",
   "execution_count": null,
   "metadata": {
    "colab": {
     "base_uri": "https://localhost:8080/"
    },
    "id": "2TL6w_uf7lDH",
    "outputId": "215a949c-364f-4857-87ea-f1ee42cb4d03"
   },
   "outputs": [
    {
     "name": "stdout",
     "output_type": "stream",
     "text": [
      "Train Set\n",
      "--------------------------------------------------\n",
      "R-squared: 0.568\n",
      "Mean Squared Error: 1465407201149.985\n",
      "Root Mean Squared Error: 1210540.045\n",
      "Mean Absolute Error: 893856.690\n",
      "\n",
      "\n",
      "Test Set\n",
      "--------------------------------------------------\n",
      "R-squared: 0.574\n",
      "Mean Squared Error: 1567446045438.838\n",
      "Root Mean Squared Error: 1251976.855\n",
      "Mean Absolute Error: 899127.503\n"
     ]
    }
   ],
   "source": [
    "# Evaluating the linear regression model using the 'r2_score', 'mean_squared_error' & 'mean_absolute_error' functions of the 'sklearn' module.\n",
    "\n",
    "\n",
    "from sklearn.metrics import r2_score, mean_squared_error, mean_absolute_error\n",
    "\n",
    "\n",
    "y1_train_pred = lin_reg2.predict(x1_train)\n",
    "\n",
    "y1_test_pred = lin_reg2.predict(x1_test)\n",
    "\n",
    "\n",
    "print(f\"Train Set\\n{'-' * 50}\")\n",
    "\n",
    "print(f\"R-squared: {r2_score(y1_train, y1_train_pred):.3f}\")\n",
    "\n",
    "print(f\"Mean Squared Error: {mean_squared_error(y1_train, y1_train_pred):.3f}\")\n",
    "\n",
    "print(f\"Root Mean Squared Error: {np.sqrt(mean_squared_error(y1_train, y1_train_pred)):.3f}\")\n",
    "\n",
    "print(f\"Mean Absolute Error: {mean_absolute_error(y1_train, y1_train_pred):.3f}\")\n",
    "      \n",
    "\n",
    "print(f\"\\n\\nTest Set\\n{'-' * 50}\")\n",
    "\n",
    "\n",
    "print(f\"R-squared: {r2_score(y1_test, y1_test_pred):.3f}\")\n",
    "\n",
    "print(f\"Mean Squared Error: {mean_squared_error(y1_test, y1_test_pred):.3f}\")\n",
    "\n",
    "print(f\"Root Mean Squared Error: {np.sqrt(mean_squared_error(y1_test, y1_test_pred)):.3f}\")\n",
    "\n",
    "print(f\"Mean Absolute Error: {mean_absolute_error(y1_test, y1_test_pred):.3f}\")\n",
    "\n"
   ]
  },
  {
   "cell_type": "markdown",
   "metadata": {
    "id": "7ctl1HKaY6Uy"
   },
   "source": [
    "---"
   ]
  },
  {
   "cell_type": "markdown",
   "metadata": {
    "id": "O8Y3O5R88IrL"
   },
   "source": [
    "#### 7. Residual (Error) Analysis\n",
    "\n",
    "Performing residual analysis to check if the residuals (errors) are normally distributed or not. For this, ploting the  histogram of the residuals.\n"
   ]
  },
  {
   "cell_type": "code",
   "execution_count": null,
   "metadata": {
    "colab": {
     "base_uri": "https://localhost:8080/",
     "height": 513
    },
    "id": "mYF-WdWn8QmU",
    "outputId": "74f30e83-76f1-4265-f546-1c7f3a201e6e"
   },
   "outputs": [
    {
     "data": {
      "image/png": "[encoded data removed]",
      "text/plain": [
       "<Figure size 1368x576 with 1 Axes>"
      ]
     },
     "metadata": {
      "needs_background": "light"
     },
     "output_type": "display_data"
    }
   ],
   "source": [
    "# Creating a histogram for the errors obtained in the predicted values for the train set.\n",
    "\n",
    "errors_train = y1_train - y1_train_pred\n",
    "\n",
    "\n",
    "plt.figure(figsize = (19,8))\n",
    "\n",
    "plt.hist(x = errors_train,bins = 'sturges',edgecolor = 'red')\n",
    "\n",
    "plt.axvline(errors_train.mean(),color = 'red',label = 'Mean')\n",
    "\n",
    "plt.title('Histogram on errrors in training set.')\n",
    "\n",
    "plt.xlabel('Training set error.')\n",
    "\n",
    "plt.legend()\n",
    "\n",
    "plt.show()\n"
   ]
  },
  {
   "cell_type": "code",
   "execution_count": null,
   "metadata": {
    "colab": {
     "base_uri": "https://localhost:8080/",
     "height": 513
    },
    "id": "RJv_gr1N8T5U",
    "outputId": "75c62746-870b-4eb0-e183-b49c774eae3f"
   },
   "outputs": [
    {
     "data": {
      "image/png": "[encoded data removed]",
      "text/plain": [
       "<Figure size 1368x576 with 1 Axes>"
      ]
     },
     "metadata": {
      "needs_background": "light"
     },
     "output_type": "display_data"
    }
   ],
   "source": [
    "# Creating a histogram for the errors obtained in the predicted values for the test set.\n",
    "\n",
    "errors_test = y1_test - y1_test_pred\n",
    "\n",
    "\n",
    "plt.figure(figsize = (19,8))\n",
    "\n",
    "plt.hist(x = errors_test,bins = 'sturges',edgecolor = 'red')\n",
    "\n",
    "plt.axvline(errors_test.mean(),color = 'red',label = 'Mean')\n",
    "\n",
    "plt.title('Histogram on errrors in test set.')\n",
    "\n",
    "plt.xlabel('Test set error.')\n",
    "\n",
    "plt.legend()\n",
    "\n",
    "plt.show()\n",
    "\n"
   ]
  },
  {
   "cell_type": "markdown",
   "metadata": {
    "id": "_-uMjpUMY932"
   },
   "source": [
    "---"
   ]
  },
  {
   "cell_type": "markdown",
   "metadata": {
    "id": "LMZN8NeX8rde"
   },
   "source": [
    "#### 8. Verify Homoscedasticity \n",
    "\n",
    "Check for Homoscedasticity (constant variance) by creating a scatter plot between the errors and the target variable. Determine whether there is some kind of relationship between the error and the target variable."
   ]
  },
  {
   "cell_type": "code",
   "execution_count": null,
   "metadata": {
    "colab": {
     "base_uri": "https://localhost:8080/",
     "height": 566
    },
    "id": "uptEDE578wjm",
    "outputId": "51d47904-0b57-4825-c952-f6c3535cc544"
   },
   "outputs": [
    {
     "data": {
      "image/png": "[encoded data removed]",
      "text/plain": [
       "<Figure size 1368x648 with 1 Axes>"
      ]
     },
     "metadata": {
      "needs_background": "light"
     },
     "output_type": "display_data"
    }
   ],
   "source": [
    "# Creating a scatter plot between the errors and the dependent variable for the train set.\n",
    "\n",
    "plt.figure(figsize= (19,9))\n",
    "\n",
    "plt.scatter(y1_train,errors_train)\n",
    "\n",
    "plt.title('Scatter plot to check Homoscedasticity.')\n",
    "\n",
    "plt.axhline(errors_train.mean(),color = 'red',label = 'Mean')\n",
    "\n",
    "plt.legend()\n",
    "\n",
    "plt.show()\n",
    "\n"
   ]
  }
 ],
 "metadata": {
  "colab": {
   "provenance": []
  },
  "kernelspec": {
   "display_name": "Python 3 (ipykernel)",
   "language": "python",
   "name": "python3"
  },
  "language_info": {
   "codemirror_mode": {
    "name": "ipython",
    "version": 3
   },
   "file_extension": ".py",
   "mimetype": "text/x-python",
   "name": "python",
   "nbconvert_exporter": "python",
   "pygments_lexer": "ipython3",
   "version": "3.10.0"
  }
 },
 "nbformat": 4,
 "nbformat_minor": 1
}
